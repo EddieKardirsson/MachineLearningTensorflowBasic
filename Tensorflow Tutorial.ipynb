{
 "cells": [
  {
   "cell_type": "code",
   "id": "initial_id",
   "metadata": {
    "collapsed": true,
    "ExecuteTime": {
     "end_time": "2024-11-13T11:31:01.404493Z",
     "start_time": "2024-11-13T11:31:01.400299Z"
    }
   },
   "source": [
    "import tensorflow as tf\n",
    "import matplotlib.pyplot as plt\n",
    "import numpy as np"
   ],
   "outputs": [],
   "execution_count": 10
  },
  {
   "metadata": {
    "ExecuteTime": {
     "end_time": "2024-11-13T11:31:02.677694Z",
     "start_time": "2024-11-13T11:31:02.673425Z"
    }
   },
   "cell_type": "code",
   "source": [
    "# Formula: y=mx+b\n",
    "m = 2\n",
    "b = 0.5\n",
    "x = np.linspace(0, 4, 100)\n",
    "y = m * x + b + np.random.randn(*x.shape) + 0.25"
   ],
   "id": "4d27e0f0e862249f",
   "outputs": [],
   "execution_count": 11
  },
  {
   "metadata": {
    "ExecuteTime": {
     "end_time": "2024-11-13T11:31:03.884892Z",
     "start_time": "2024-11-13T11:31:03.756472Z"
    }
   },
   "cell_type": "code",
   "source": [
    "# scatter function in matplotlib draws the datapoints on a graph\n",
    "plt.scatter(x, y)"
   ],
   "id": "77dc20a9477275c7",
   "outputs": [
    {
     "data": {
      "text/plain": [
       "<matplotlib.collections.PathCollection at 0x24b8a50f890>"
      ]
     },
     "execution_count": 12,
     "metadata": {},
     "output_type": "execute_result"
    },
    {
     "data": {
      "text/plain": [
       "<Figure size 640x480 with 1 Axes>"
      ],
      "image/png": "[encoded data removed]"
     },
     "metadata": {},
     "output_type": "display_data"
    }
   ],
   "execution_count": 12
  },
  {
   "metadata": {
    "ExecuteTime": {
     "end_time": "2024-11-13T12:46:26.482982Z",
     "start_time": "2024-11-13T12:46:26.472740Z"
    }
   },
   "cell_type": "code",
   "source": [
    "class Model:\n",
    "    def __init__(self): # Unlike regular initializations, 0.0 may result in dead results\n",
    "        self.weight = tf.Variable(10.0)\n",
    "        self.bias = tf.Variable(10.0)\n",
    "        \n",
    "    def __call__(self, x):\n",
    "        return self.weight * x + self.bias"
   ],
   "id": "27511eae0958e0d7",
   "outputs": [],
   "execution_count": 13
  },
  {
   "metadata": {
    "ExecuteTime": {
     "end_time": "2024-11-13T12:46:27.694826Z",
     "start_time": "2024-11-13T12:46:27.689839Z"
    }
   },
   "cell_type": "code",
   "source": [
    "def calculate_loss(y_actual, y_output):\n",
    "    return tf.reduce_mean(tf.square(y_actual - y_output))"
   ],
   "id": "94686282a47ffc6f",
   "outputs": [],
   "execution_count": 14
  },
  {
   "metadata": {
    "ExecuteTime": {
     "end_time": "2024-11-13T12:56:58.135228Z",
     "start_time": "2024-11-13T12:56:58.128013Z"
    }
   },
   "cell_type": "code",
   "source": [
    "def train(model, x, y, learning_rate):\n",
    "    with tf.GradientTape() as gt:\n",
    "        y_output = model(x)\n",
    "        loss = calculate_loss(y, y_output)\n",
    "        \n",
    "    new_weight, new_bias = gt.gradient(loss, [model.weight, model.bias])\n",
    "    model.weight.assign_sub(learning_rate * new_weight)\n",
    "    model.bias.assign_sub(learning_rate * new_bias)"
   ],
   "id": "8d8edde889d4150",
   "outputs": [],
   "execution_count": 15
  },
  {
   "metadata": {
    "ExecuteTime": {
     "end_time": "2024-11-13T13:04:04.164151Z",
     "start_time": "2024-11-13T13:04:03.876634Z"
    }
   },
   "cell_type": "code",
   "source": [
    "# The training loop\n",
    "\n",
    "model = Model()\n",
    "epochs = 100\n",
    "learning_rate = 0.15\n",
    "\n",
    "for epoch in range(epochs):\n",
    "    y_output = model(x)\n",
    "    loss = calculate_loss(y, y_output)\n",
    "    print(f\"Epoch: {epoch}, Loss: {loss.numpy()}\")\n",
    "    train(model, x, y, learning_rate)"
   ],
   "id": "a5dc43cd4e1b5cb2",
   "outputs": [
    {
     "name": "stdout",
     "output_type": "stream",
     "text": [
      "Epoch: 0, Loss: 723.9437255859375\n",
      "Epoch: 1, Loss: 514.1583862304688\n",
      "Epoch: 2, Loss: 365.41949462890625\n",
      "Epoch: 3, Loss: 259.9388122558594\n",
      "Epoch: 4, Loss: 185.11434936523438\n",
      "Epoch: 5, Loss: 132.0181427001953\n",
      "Epoch: 6, Loss: 94.3246078491211\n",
      "Epoch: 7, Loss: 67.55169677734375\n",
      "Epoch: 8, Loss: 48.52348327636719\n",
      "Epoch: 9, Loss: 34.98916244506836\n",
      "Epoch: 10, Loss: 25.35344886779785\n",
      "Epoch: 11, Loss: 18.485441207885742\n",
      "Epoch: 12, Loss: 13.583337783813477\n",
      "Epoch: 13, Loss: 10.078493118286133\n",
      "Epoch: 14, Loss: 7.567531108856201\n",
      "Epoch: 15, Loss: 5.764194488525391\n",
      "Epoch: 16, Loss: 4.465255260467529\n",
      "Epoch: 17, Loss: 3.5263631343841553\n",
      "Epoch: 18, Loss: 2.844914436340332\n",
      "Epoch: 19, Loss: 2.3479244709014893\n",
      "Epoch: 20, Loss: 1.9834272861480713\n",
      "Epoch: 21, Loss: 1.7143787145614624\n",
      "Epoch: 22, Loss: 1.5143332481384277\n",
      "Epoch: 23, Loss: 1.3643819093704224\n",
      "Epoch: 24, Loss: 1.250973105430603\n",
      "Epoch: 25, Loss: 1.1643726825714111\n",
      "Epoch: 26, Loss: 1.097567081451416\n",
      "Epoch: 27, Loss: 1.0454844236373901\n",
      "Epoch: 28, Loss: 1.004442572593689\n",
      "Epoch: 29, Loss: 0.9717548489570618\n",
      "Epoch: 30, Loss: 0.9454489350318909\n",
      "Epoch: 31, Loss: 0.9240686893463135\n",
      "Epoch: 32, Loss: 0.9065303802490234\n",
      "Epoch: 33, Loss: 0.8920213580131531\n",
      "Epoch: 34, Loss: 0.8799259662628174\n",
      "Epoch: 35, Loss: 0.8697739243507385\n",
      "Epoch: 36, Loss: 0.8612020611763\n",
      "Epoch: 37, Loss: 0.8539271354675293\n",
      "Epoch: 38, Loss: 0.8477253913879395\n",
      "Epoch: 39, Loss: 0.8424184918403625\n",
      "Epoch: 40, Loss: 0.8378630876541138\n",
      "Epoch: 41, Loss: 0.8339423537254333\n",
      "Epoch: 42, Loss: 0.8305603265762329\n",
      "Epoch: 43, Loss: 0.8276375532150269\n",
      "Epoch: 44, Loss: 0.8251079320907593\n",
      "Epoch: 45, Loss: 0.8229158520698547\n",
      "Epoch: 46, Loss: 0.8210141658782959\n",
      "Epoch: 47, Loss: 0.8193632364273071\n",
      "Epoch: 48, Loss: 0.8179288506507874\n",
      "Epoch: 49, Loss: 0.8166819214820862\n",
      "Epoch: 50, Loss: 0.8155975341796875\n",
      "Epoch: 51, Loss: 0.8146539926528931\n",
      "Epoch: 52, Loss: 0.8138328790664673\n",
      "Epoch: 53, Loss: 0.813118040561676\n",
      "Epoch: 54, Loss: 0.8124957084655762\n",
      "Epoch: 55, Loss: 0.8119537830352783\n",
      "Epoch: 56, Loss: 0.8114818334579468\n",
      "Epoch: 57, Loss: 0.8110705614089966\n",
      "Epoch: 58, Loss: 0.8107123374938965\n",
      "Epoch: 59, Loss: 0.8104004859924316\n",
      "Epoch: 60, Loss: 0.8101286292076111\n",
      "Epoch: 61, Loss: 0.8098916411399841\n",
      "Epoch: 62, Loss: 0.8096852898597717\n",
      "Epoch: 63, Loss: 0.8095054626464844\n",
      "Epoch: 64, Loss: 0.8093487620353699\n",
      "Epoch: 65, Loss: 0.8092122673988342\n",
      "Epoch: 66, Loss: 0.809093177318573\n",
      "Epoch: 67, Loss: 0.8089895844459534\n",
      "Epoch: 68, Loss: 0.8088992238044739\n",
      "Epoch: 69, Loss: 0.8088204264640808\n",
      "Epoch: 70, Loss: 0.8087518215179443\n",
      "Epoch: 71, Loss: 0.8086920976638794\n",
      "Epoch: 72, Loss: 0.8086400032043457\n",
      "Epoch: 73, Loss: 0.8085945248603821\n",
      "Epoch: 74, Loss: 0.808555006980896\n",
      "Epoch: 75, Loss: 0.8085203766822815\n",
      "Epoch: 76, Loss: 0.8084904551506042\n",
      "Epoch: 77, Loss: 0.8084642887115479\n",
      "Epoch: 78, Loss: 0.8084414601325989\n",
      "Epoch: 79, Loss: 0.8084214925765991\n",
      "Epoch: 80, Loss: 0.8084041476249695\n",
      "Epoch: 81, Loss: 0.8083890676498413\n",
      "Epoch: 82, Loss: 0.8083757758140564\n",
      "Epoch: 83, Loss: 0.8083643913269043\n",
      "Epoch: 84, Loss: 0.8083544373512268\n",
      "Epoch: 85, Loss: 0.8083457946777344\n",
      "Epoch: 86, Loss: 0.8083379864692688\n",
      "Epoch: 87, Loss: 0.8083315491676331\n",
      "Epoch: 88, Loss: 0.8083256483078003\n",
      "Epoch: 89, Loss: 0.8083207011222839\n",
      "Epoch: 90, Loss: 0.8083164095878601\n",
      "Epoch: 91, Loss: 0.8083125352859497\n",
      "Epoch: 92, Loss: 0.8083091974258423\n",
      "Epoch: 93, Loss: 0.8083063364028931\n",
      "Epoch: 94, Loss: 0.8083037734031677\n",
      "Epoch: 95, Loss: 0.808301568031311\n",
      "Epoch: 96, Loss: 0.8082996606826782\n",
      "Epoch: 97, Loss: 0.8082979321479797\n",
      "Epoch: 98, Loss: 0.8082965612411499\n",
      "Epoch: 99, Loss: 0.8082953095436096\n"
     ]
    }
   ],
   "execution_count": 17
  },
  {
   "metadata": {
    "ExecuteTime": {
     "end_time": "2024-11-13T13:07:39.822367Z",
     "start_time": "2024-11-13T13:07:39.798450Z"
    }
   },
   "cell_type": "code",
   "source": [
    "# Testing & Evaluation\n",
    "\n",
    "print(model.weight.numpy())\n",
    "print(model.bias.numpy())"
   ],
   "id": "f74955728f546ab0",
   "outputs": [
    {
     "name": "stdout",
     "output_type": "stream",
     "text": [
      "1.9833404\n",
      "0.8202132\n"
     ]
    }
   ],
   "execution_count": 18
  },
  {
   "metadata": {
    "ExecuteTime": {
     "end_time": "2024-11-13T13:12:26.994063Z",
     "start_time": "2024-11-13T13:12:26.857838Z"
    }
   },
   "cell_type": "code",
   "source": [
    "# Testing with the new data\n",
    "new_x = np.linspace(0, 4, 50)\n",
    "new_y = model.weight.numpy() * new_x + model.bias.numpy()\n",
    "plt.scatter(new_x, new_y)\n",
    "plt.scatter(x, y)"
   ],
   "id": "8c52773d5c596bcb",
   "outputs": [
    {
     "data": {
      "text/plain": [
       "<matplotlib.collections.PathCollection at 0x24b8a4b7ec0>"
      ]
     },
     "execution_count": 20,
     "metadata": {},
     "output_type": "execute_result"
    },
    {
     "data": {
      "text/plain": [
       "<Figure size 640x480 with 1 Axes>"
      ],
      "image/png": "[encoded data removed]"
     },
     "metadata": {},
     "output_type": "display_data"
    }
   ],
   "execution_count": 20
  }
 ],
 "metadata": {
  "kernelspec": {
   "display_name": "Python 3",
   "language": "python",
   "name": "python3"
  },
  "language_info": {
   "codemirror_mode": {
    "name": "ipython",
    "version": 2
   },
   "file_extension": ".py",
   "mimetype": "text/x-python",
   "name": "python",
   "nbconvert_exporter": "python",
   "pygments_lexer": "ipython2",
   "version": "2.7.6"
  }
 },
 "nbformat": 4,
 "nbformat_minor": 5
}
